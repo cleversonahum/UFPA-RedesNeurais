{
 "cells": [
  {
   "cell_type": "markdown",
   "metadata": {},
   "source": [
    "# Preditores"
   ]
  },
  {
   "cell_type": "code",
   "execution_count": 1,
   "metadata": {},
   "outputs": [],
   "source": [
    "%matplotlib inline\n",
    "import numpy as np\n",
    "from sklearn.model_selection import train_test_split\n",
    "from sklearn.model_selection import KFold\n",
    "import matplotlib.pyplot as plt\n",
    "\n",
    "def padroestd(serie, comp_janela, passo):\n",
    "    X = np.array(np.fliplr([serie[x:x+comp_janela] for x in range(0,len(serie)-comp_janela-passo+1)]))\n",
    "    S = np.array(serie[comp_janela+passo-1:]) \n",
    "    return (X,S)\n",
    "# a = np.array([1,2,3,4,5,6,7,8,9,10,11,12])\n",
    "# [X,S] = padroestd(a, 5,2)\n",
    "# display(X,S)"
   ]
  },
  {
   "cell_type": "code",
   "execution_count": 2,
   "metadata": {},
   "outputs": [],
   "source": [
    "def regressaoelm(X,D,P):\n",
    "    U = np.random.randn(P, X.shape[1]+1) #Distribuição Gaussiana\n",
    "    Xa = np.c_[X, np.ones(X.shape[0])]\n",
    "    S = Xa@np.transpose(U)\n",
    "    H = np.tanh(S)\n",
    "    Ha = np.c_[H,np.ones(X.shape[0])]\n",
    "    V = np.transpose(np.linalg.pinv(Ha)@D)\n",
    "    R = Ha@np.transpose(V)\n",
    "    Y = R\n",
    "    E = D-Y\n",
    "    if(D.ndim==1):\n",
    "        EQM = 1/(D.shape[0])*(np.transpose(E)@E)  #EQM da rede\n",
    "    else:\n",
    "        EQM = 1/(D.shape[0]*D.shape[1])*(np.transpose(E)@E)  #EQM da rede\n",
    "    return (U,V,Y,E,EQM)"
   ]
  },
  {
   "cell_type": "code",
   "execution_count": 3,
   "metadata": {},
   "outputs": [],
   "source": [
    "def erroregressaoelm(X,D,U,V):\n",
    "    Xa = np.c_[X,np.ones(X.shape[0])]\n",
    "    S = Xa@np.transpose(U)\n",
    "    H = np.tanh(S)\n",
    "    Ha = np.c_[H,np.ones(X.shape[0])]\n",
    "    R = Ha@np.transpose(V)\n",
    "    Y = R\n",
    "    E = D-Y\n",
    "    if(D.ndim==1):\n",
    "        EQM = 1/(D.shape[0])*(np.transpose(E)@E)  #EQM da rede\n",
    "    else:\n",
    "        EQM = 1/(D.shape[0]*D.shape[1])*(np.transpose(E)@E)  #EQM da rede\n",
    "    return (Y,E,EQM)"
   ]
  },
  {
   "cell_type": "code",
   "execution_count": 4,
   "metadata": {},
   "outputs": [
    {
     "data": {
      "text/plain": [
       "(56, 2)"
      ]
     },
     "metadata": {},
     "output_type": "display_data"
    },
    {
     "data": {
      "text/plain": [
       "(56,)"
      ]
     },
     "metadata": {},
     "output_type": "display_data"
    },
    {
     "data": {
      "text/plain": [
       "(56,)"
      ]
     },
     "metadata": {},
     "output_type": "display_data"
    }
   ],
   "source": [
    "pctr = 0.75 #Porcentagem conjunto de treinamento\n",
    "passo = 1\n",
    "comp_janela = 4\n",
    "P = 5 #Quantidade de neurônios camada oculta\n",
    "mat = np.array([[1868,395],[1869,118],[1870,385],[1871,1008],[1872,1096],[1873,512],[1874,217],[1875,1432],[1876,4682],[1877,1861],[1878,292],[1879,1300],[1880,731],[1881,753],[1882,1394],[1883,498],[1884,115],[1885,501],[1886,306],[1887,1167],[1888,628],[1889,1503],[1890,2585],[1891,1119],[1892,979],[1893,1216],[1894,1061],[1895,360],[1896,607],[1897,2759],[1898,796],[1899,490],[1900,1494],[1901,4489],[1902,1879],[1903,248],[1904,3237],[1905,5019],[1906,1189],[1907,159],[1908,632],[1909,3502],[1910,547],[1911,78],[1912,131],[1913,704],[1914,429],[1915,29],[1916,344],[1917,1607],[1918,768],[1919,296],[1920,2397],[1921,9797],[1922,1806],[1923,497]])\n",
    "tempo = mat[:,0]\n",
    "serie = mat[:,1]\n",
    "display(mat.shape,tempo.shape,serie.shape)"
   ]
  },
  {
   "cell_type": "code",
   "execution_count": 5,
   "metadata": {},
   "outputs": [
    {
     "data": {
      "text/plain": [
       "(43,)"
      ]
     },
     "metadata": {},
     "output_type": "display_data"
    },
    {
     "data": {
      "text/plain": [
       "(43,)"
      ]
     },
     "metadata": {},
     "output_type": "display_data"
    },
    {
     "data": {
      "text/plain": [
       "(13,)"
      ]
     },
     "metadata": {},
     "output_type": "display_data"
    },
    {
     "data": {
      "text/plain": [
       "(13,)"
      ]
     },
     "metadata": {},
     "output_type": "display_data"
    }
   ],
   "source": [
    "#Selecionando conjunto de treinamento e testes\n",
    "numtr = np.rint(pctr*serie.shape[0])\n",
    "serietr = serie[0:int(numtr+1)]\n",
    "seriet = serie[int(numtr)+1:]\n",
    "tempotr = tempo[0:int(numtr+1)]\n",
    "tempot = tempo[int(numtr)+1:]\n",
    "display(serietr.shape,tempotr.shape,seriet.shape,tempot.shape)"
   ]
  },
  {
   "cell_type": "code",
   "execution_count": 6,
   "metadata": {},
   "outputs": [],
   "source": [
    "#Escalonando valores\n",
    "# zmin = -1\n",
    "# zmax = 1\n",
    "# xmin = np.min(serietr)\n",
    "# xmax = np.max(serietr)\n",
    "# ztrain = ((serietr-xmin)/(xmax-xmin))*(zmax-zmin)+zmin"
   ]
  },
  {
   "cell_type": "code",
   "execution_count": 7,
   "metadata": {},
   "outputs": [],
   "source": [
    "#Gerando valores de entrada(X) e saídas(D)\n",
    "# [Xtr,Dtr] = padroestd(ztrain,comp_janela,passo) #Escalonado\n",
    "[Xtr,Dtr]= padroestd(serietr,comp_janela,passo) #Sem escalonamento\n",
    "[Xt,Dt]= padroestd(seriet,comp_janela,passo)"
   ]
  },
  {
   "cell_type": "code",
   "execution_count": 8,
   "metadata": {},
   "outputs": [],
   "source": [
    "# Cross-validation Leave-One-Out\n",
    "# kf = KFold(n_splits=Xtr.shape[0]) #Definindo o iterador de acordo com o valor de K escolhido\n",
    "# #Utilizando o iterador criado, e repetindo o processo N vezes para cada P neurônios na camada oculta temos:\n",
    "# veteqmtr = np.array([])\n",
    "# veteqmv = np.array([])\n",
    "# for train_index, val_index in kf.split(Xtr):\n",
    "#     X_train, X_val = Xtr[train_index], Xtr[val_index]\n",
    "#     D_train, D_val = Dtr[train_index], Dtr[val_index]\n",
    "#     [U,V,Ytr,Etr,EQMtr] = regressaoelm(X_train,D_train,P)\n",
    "#     veteqmtr = np.append(veteqmtr, EQMtr);\n",
    "#     [Yv,Ev,EQMv] = erroregressaoelm(X_val,D_val,U,V)\n",
    "#     veteqmv = np.append(veteqmv, EQMv);\n",
    "# #[Yt,Et,EQMt] = erroregressaoelm(Xt,Dt,U,V)\n",
    "# display(veteqmtr, veteqmv)"
   ]
  },
  {
   "cell_type": "code",
   "execution_count": 9,
   "metadata": {},
   "outputs": [
    {
     "data": {
      "image/png": "[encoded data removed]",
      "text/plain": [
       "<Figure size 432x288 with 1 Axes>"
      ]
     },
     "metadata": {},
     "output_type": "display_data"
    },
    {
     "data": {
      "text/plain": [
       "(39, 4)"
      ]
     },
     "metadata": {},
     "output_type": "display_data"
    },
    {
     "data": {
      "text/plain": [
       "(9, 4)"
      ]
     },
     "metadata": {},
     "output_type": "display_data"
    },
    {
     "data": {
      "text/plain": [
       "(39,)"
      ]
     },
     "metadata": {},
     "output_type": "display_data"
    },
    {
     "data": {
      "text/plain": [
       "(9,)"
      ]
     },
     "metadata": {},
     "output_type": "display_data"
    },
    {
     "data": {
      "text/plain": [
       "(56,)"
      ]
     },
     "metadata": {},
     "output_type": "display_data"
    }
   ],
   "source": [
    "[U,V,Ytr,Etr,EQMtr] = regressaoelm(Xtr,Dtr,P)\n",
    "[Yt,Et,EQMt] = erroregressaoelm(Xt,Dt,U,V)\n",
    "plt.plot(tempo[comp_janela+1:44],Dtr,'b.-',tempo[44:53], Dt, 'b.-', tempo[comp_janela+1:44], Ytr, 'r*-',tempo[44:53], Yt, 'r*-')\n",
    "plt.show()\n",
    "display(Xtr.shape,Xt.shape,Ytr.shape,Yt.shape,tempo.shape)"
   ]
  },
  {
   "cell_type": "code",
   "execution_count": null,
   "metadata": {},
   "outputs": [],
   "source": []
  }
 ],
 "metadata": {
  "kernelspec": {
   "display_name": "Python 3",
   "language": "python",
   "name": "python3"
  },
  "language_info": {
   "codemirror_mode": {
    "name": "ipython",
    "version": 3
   },
   "file_extension": ".py",
   "mimetype": "text/x-python",
   "name": "python",
   "nbconvert_exporter": "python",
   "pygments_lexer": "ipython3",
   "version": "3.6.3"
  }
 },
 "nbformat": 4,
 "nbformat_minor": 2
}
