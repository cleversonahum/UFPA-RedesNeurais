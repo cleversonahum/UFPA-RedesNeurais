{
 "cells": [
  {
   "cell_type": "markdown",
   "metadata": {},
   "source": [
    "# Preditores"
   ]
  },
  {
   "cell_type": "code",
   "execution_count": 21,
   "metadata": {},
   "outputs": [
    {
     "data": {
      "text/plain": [
       "array([[ 5,  4,  3,  2,  1],\n",
       "       [ 6,  5,  4,  3,  2],\n",
       "       [ 7,  6,  5,  4,  3],\n",
       "       [ 8,  7,  6,  5,  4],\n",
       "       [ 9,  8,  7,  6,  5],\n",
       "       [10,  9,  8,  7,  6]])"
      ]
     },
     "metadata": {},
     "output_type": "display_data"
    },
    {
     "data": {
      "text/plain": [
       "array([ 7,  8,  9, 10, 11, 12])"
      ]
     },
     "metadata": {},
     "output_type": "display_data"
    }
   ],
   "source": [
    "%matplotlib inline\n",
    "import numpy as np\n",
    "\n",
    "def padroestd(serie, comp_janela, passo):\n",
    "    X = np.array(np.fliplr([serie[x:x+comp_janela] for x in range(0,len(serie)-comp_janela-passo+1)]))\n",
    "    S = np.array(serie[comp_janela+passo-1:]) \n",
    "    return (X,S)\n",
    "# a = np.array([1,2,3,4,5,6,7,8,9,10,11,12])\n",
    "# [X,S] = padroestd(a, 5,2)\n",
    "# display(X,S)"
   ]
  },
  {
   "cell_type": "code",
   "execution_count": null,
   "metadata": {},
   "outputs": [],
   "source": [
    "def treinaelmclass(X,D,P):\n",
    "    U = np.random.randn(P, X.shape[1]+1) #Distribuição Gaussiana\n",
    "    Xa = np.c_[X, np.ones(X.shape[0])]\n",
    "    S = Xa@np.transpose(U)\n",
    "    H = np.tanh(S)\n",
    "    Ha = np.c_[H,np.ones(X.shape[0])]\n",
    "    V = np.transpose(np.linalg.pinv(Ha)@D)\n",
    "    R = Ha@np.transpose(V)\n",
    "    Y = R\n",
    "    E = D-Y\n",
    "    EQM = 1/(D.shape[0]*D.shape[1])*(np.transpose(E)@E)  #EQM da rede\n",
    "    return (U,V,Y,E,EQM)\n",
    "\n",
    "# function [w1,w2,Y,E,eqm]= regressaoelm(X,D,P)\n",
    "# [nl,nc] = size(X);\n",
    "# [dl,dc]=  size(D); % nl=dl\n",
    "# Xa = [X ones(nl,1)];\n",
    "# w1 = randn(P,nc+1);\n",
    "# S = Xa*w1';\n",
    "# H = tanh(S); % f(s)=tanh(s)\n",
    "# Ha = [H ones(nl,1)];\n",
    "# w2t = (pinv(Ha)*D);%w2 = inv([Ha'*Ha])*Ha'*D;\n",
    "# w2 = w2t';\n",
    "# V = Ha*w2';\n",
    "# Y = V; % ativa��es lineares na camada de sa�da\n",
    "# E = D-Y;\n",
    "# vetE = reshape(E,nl*dc,1);% repmat(E,dl*dc,1)repete matriz\n",
    "# eqm = 1/(nl*dc)*sum(vetE.^2);"
   ]
  },
  {
   "cell_type": "code",
   "execution_count": null,
   "metadata": {},
   "outputs": [],
   "source": [
    "def erroelmclass(X,D,U,V):\n",
    "    Xa = np.c_[X,np.ones(X.shape[0])]\n",
    "    S = Xa@np.transpose(U)\n",
    "    H = np.tanh(S)\n",
    "    Ha = np.c_[H,np.ones(X.shape[0])]\n",
    "    R = Ha@np.transpose(V)\n",
    "    Y = R\n",
    "    E = D-Y\n",
    "    EQM = 1/(D.shape[0]*D.shape[1])*(np.transpose(E)@E)\n",
    "    return (Y,E,EQM)\n",
    "\n",
    "# function [Y,E,eqm]=erroregressaoelm(w1,w2,X,D)\n",
    "# [nl,nc] = size(X);\n",
    "# [dl,dc]=  size(D); % nl=dl\n",
    "# Xa = [X ones(nl,1)];\n",
    "# S = Xa*w1';\n",
    "# H = tanh(S); % f(s)=tanh(s)\n",
    "# Ha = [H ones(nl,1)];\n",
    "# V = Ha*w2';\n",
    "# Y = V; % ativa��es lineares na camada de sa�da\n",
    "# E = D-Y;\n",
    "# vetE = reshape(E,nl*dc,1);% repmat(E,dl*dc,1)repete matriz\n",
    "# eqm = 1/(nl*dc)*sum(vetE.^2);"
   ]
  },
  {
   "cell_type": "code",
   "execution_count": null,
   "metadata": {},
   "outputs": [],
   "source": [
    "pct = 0.75 #Porcentagem conjunto de teste\n",
    "passo = 1\n",
    "comp_janela = 4\n",
    "P = 5 #Quantidade de neurônios camada oculta"
   ]
  }
 ],
 "metadata": {
  "kernelspec": {
   "display_name": "Python 3",
   "language": "python",
   "name": "python3"
  },
  "language_info": {
   "codemirror_mode": {
    "name": "ipython",
    "version": 3
   },
   "file_extension": ".py",
   "mimetype": "text/x-python",
   "name": "python",
   "nbconvert_exporter": "python",
   "pygments_lexer": "ipython3",
   "version": "3.6.3"
  }
 },
 "nbformat": 4,
 "nbformat_minor": 2
}
