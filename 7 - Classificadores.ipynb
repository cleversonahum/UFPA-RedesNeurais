{
 "cells": [
  {
   "cell_type": "markdown",
   "metadata": {},
   "source": [
    "# Classificadores"
   ]
  },
  {
   "cell_type": "code",
   "execution_count": 12,
   "metadata": {},
   "outputs": [],
   "source": [
    "%matplotlib inline\n",
    "import numpy as np\n",
    "from sklearn.utils import shuffle\n",
    "\n",
    "def treinaelmclass(X,D,P):\n",
    "    U = np.random.randn(P, X.shape[1]) #Distribuição Gaussiana\n",
    "    Xa = np.c_[X, np.ones(X.shape[0])]\n",
    "    S = Xa@np.transpose(U)\n",
    "    H = np.tanh(S)\n",
    "    Ha = np.c_[H,np.ones(X.shape[0])]\n",
    "    V = np.transpose(np.linalg.pinv(Ha)@D)\n",
    "    R = Ha@np.transpose(V)\n",
    "    Y = R\n",
    "    E = D-Y\n",
    "    EQM = 1/(D.shape[0]*D.shape[1])*(np.transpose(E)@E)  #EQM da rede\n",
    "    taxa = 100* np.sum(np.equal(np.amax(Y, axis=0),np.amax(D, axis=0)))\n",
    "    return (U,V,Y,E,EQM,taxa)"
   ]
  },
  {
   "cell_type": "code",
   "execution_count": 13,
   "metadata": {},
   "outputs": [],
   "source": [
    "def erroelm(X,D,U,V):\n",
    "    Xa = np.c_[X,np.ones(X.shape[0])]\n",
    "    S = Xa@np.transpose(U)\n",
    "    H = np.tanh(S)\n",
    "    Ha = np.c_[H,np.ones(X.shape[0])]\n",
    "    R = Ha@np.transpose(V)\n",
    "    Y = R\n",
    "    E = D-Y\n",
    "    EQM = 1/(D.shape[0]*D.shape[1])*(np.transpose(E)@E)\n",
    "    taxa = 100* np.sum(np.equal(np.amax(Y, axis=0),np.amax(D, axis=0)))\n",
    "    return (Y,E,EQM,taxa)"
   ]
  },
  {
   "cell_type": "code",
   "execution_count": 14,
   "metadata": {},
   "outputs": [
    {
     "data": {
      "text/plain": [
       "array([[0, 0, 0],\n",
       "       [0, 0, 1],\n",
       "       [0, 1, 0],\n",
       "       [0, 1, 1],\n",
       "       [1, 0, 0],\n",
       "       [1, 0, 1],\n",
       "       [1, 1, 0],\n",
       "       [1, 1, 1]])"
      ]
     },
     "metadata": {},
     "output_type": "display_data"
    },
    {
     "data": {
      "text/plain": [
       "(8, 3)"
      ]
     },
     "metadata": {},
     "output_type": "display_data"
    },
    {
     "data": {
      "text/plain": [
       "array([[1, 0],\n",
       "       [0, 1],\n",
       "       [0, 1],\n",
       "       [1, 0],\n",
       "       [0, 1],\n",
       "       [1, 0],\n",
       "       [1, 0],\n",
       "       [0, 1]])"
      ]
     },
     "metadata": {},
     "output_type": "display_data"
    },
    {
     "data": {
      "text/plain": [
       "(8, 2)"
      ]
     },
     "metadata": {},
     "output_type": "display_data"
    }
   ],
   "source": [
    "X = np.array([[0,0,0],[0,0,1],[0,1,0],[0,1,1],[1,0,0],[1,0,1],[1,1,0],[1,1,1]])\n",
    "D = np.array([[1,0],[0,1],[0,1],[1,0],[0,1],[1,0],[1,0],[0,1]])\n",
    "display(X,X.shape,D,D.shape)"
   ]
  },
  {
   "cell_type": "code",
   "execution_count": 15,
   "metadata": {},
   "outputs": [
    {
     "data": {
      "text/plain": [
       "array([[1, 1, 0],\n",
       "       [0, 1, 0],\n",
       "       [0, 0, 1],\n",
       "       [1, 1, 1],\n",
       "       [0, 1, 1],\n",
       "       [0, 0, 0],\n",
       "       [1, 0, 1],\n",
       "       [1, 0, 0]])"
      ]
     },
     "metadata": {},
     "output_type": "display_data"
    },
    {
     "data": {
      "text/plain": [
       "array([[1, 0],\n",
       "       [0, 1],\n",
       "       [0, 1],\n",
       "       [0, 1],\n",
       "       [1, 0],\n",
       "       [1, 0],\n",
       "       [1, 0],\n",
       "       [0, 1]])"
      ]
     },
     "metadata": {},
     "output_type": "display_data"
    }
   ],
   "source": [
    "X, D= shuffle(X, D, random_state=0)\n",
    "display(X,D)"
   ]
  },
  {
   "cell_type": "code",
   "execution_count": 22,
   "metadata": {},
   "outputs": [
    {
     "data": {
      "text/plain": [
       "6"
      ]
     },
     "metadata": {},
     "output_type": "display_data"
    },
    {
     "data": {
      "text/plain": [
       "array([[1, 1, 0],\n",
       "       [0, 1, 0],\n",
       "       [0, 0, 1],\n",
       "       [1, 1, 1],\n",
       "       [0, 1, 1],\n",
       "       [0, 0, 0]])"
      ]
     },
     "metadata": {},
     "output_type": "display_data"
    },
    {
     "data": {
      "text/plain": [
       "array([[1, 0],\n",
       "       [0, 1],\n",
       "       [0, 1],\n",
       "       [0, 1],\n",
       "       [1, 0],\n",
       "       [1, 0]])"
      ]
     },
     "metadata": {},
     "output_type": "display_data"
    },
    {
     "data": {
      "text/plain": [
       "array([[1, 0, 1],\n",
       "       [1, 0, 0]])"
      ]
     },
     "metadata": {},
     "output_type": "display_data"
    },
    {
     "data": {
      "text/plain": [
       "array([[1, 0],\n",
       "       [0, 1]])"
      ]
     },
     "metadata": {},
     "output_type": "display_data"
    }
   ],
   "source": [
    "numtr = int(np.ceil(0.7*X.shape[0]))\n",
    "Xtr = X[0:numtr,:]\n",
    "Dtr = D[0:numtr,:]\n",
    "Xt = X[numtr:,:]\n",
    "Dt = D[numtr:,:]\n",
    "display(Xtr,Dtr,Xt,Dt)"
   ]
  },
  {
   "cell_type": "code",
   "execution_count": 20,
   "metadata": {},
   "outputs": [],
   "source": [
    "# xtrmin = min(Xtr); %maximo em cada coluna\n",
    "# xtrmax = max(Xtr);\n",
    "# xtremin = -1*ones(1,nc);\n",
    "# xtremax = 1*ones(1,nc);\n",
    "# [nl,nc] = size(Xtr); % nl � o total de padr�es\n",
    "# Xtre = repmat((xtremax-xtremin),nl,1).*(Xtr-repmat(xtrmin,nl,1))./repmat((xtrmax-xtrmin),nl,1)+repmat(xtremin,nl,1);\n",
    "# Dtre = Dtr;\n",
    "# P = 5;\n",
    "# %introducao do escalonamento\n",
    "# [U,V,Ytre,Etre,EQMtre,taxatre] = treinaelmclass(Xtre,Dtre,P);\n",
    "# % escalonando exemplos do conjunto de teste\n",
    "# % Xte = (xtremax-xtremin)*(Xt-xtrmin)/(xtrmax-xtrmin)+xtremin;\n",
    "# [nl,nc] = size(Xt); % nl � o total de padr�es\n",
    "# Xte = repmat((xtremax-xtremin),nl,1).*(Xt-repmat(xtrmin,nl,1))./repmat((xtrmax-xtrmin),nl,1)+repmat(xtremin,nl,1);\n",
    "# % conversao de Dt para que os erros sejam calculados na escala em que\n",
    "# % o treinamento foi realizado\n",
    "# Dte = Dt;\n",
    "# % calculo da saida da rede para o conjunto de teste\n",
    "# [Yte,Ete,EQMte,taxate] = erroelmclass(Xte,Dte,U,V);"
   ]
  },
  {
   "cell_type": "code",
   "execution_count": null,
   "metadata": {},
   "outputs": [],
   "source": []
  }
 ],
 "metadata": {
  "kernelspec": {
   "display_name": "Python 3",
   "language": "python",
   "name": "python3"
  },
  "language_info": {
   "codemirror_mode": {
    "name": "ipython",
    "version": 3
   },
   "file_extension": ".py",
   "mimetype": "text/x-python",
   "name": "python",
   "nbconvert_exporter": "python",
   "pygments_lexer": "ipython3",
   "version": "3.6.3"
  }
 },
 "nbformat": 4,
 "nbformat_minor": 2
}
