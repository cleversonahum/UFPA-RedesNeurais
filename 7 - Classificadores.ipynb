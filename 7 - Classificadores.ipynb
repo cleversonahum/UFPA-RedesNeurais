{
 "cells": [
  {
   "cell_type": "markdown",
   "metadata": {},
   "source": [
    "# Classificadores"
   ]
  },
  {
   "cell_type": "code",
   "execution_count": 1,
   "metadata": {},
   "outputs": [],
   "source": [
    "%matplotlib inline\n",
    "import numpy as np\n",
    "from sklearn.utils import shuffle\n",
    "\n",
    "def treinaelmclass(X,D,P):\n",
    "    U = np.random.randn(P, X.shape[1]+1) #Distribuição Gaussiana\n",
    "    Xa = np.c_[X, np.ones(X.shape[0])]\n",
    "    S = Xa@np.transpose(U)\n",
    "    H = np.tanh(S)\n",
    "    Ha = np.c_[H,np.ones(X.shape[0])]\n",
    "    V = np.transpose(np.linalg.pinv(Ha)@D)\n",
    "    R = Ha@np.transpose(V)\n",
    "    Y = R\n",
    "    E = D-Y\n",
    "    EQM = 1/(D.shape[0]*D.shape[1])*(np.transpose(E)@E)  #EQM da rede\n",
    "    taxa = 100* np.sum(np.equal(np.amax(Y, axis=0),np.amax(D, axis=0)))\n",
    "    return (U,V,Y,E,EQM,taxa)"
   ]
  },
  {
   "cell_type": "code",
   "execution_count": 2,
   "metadata": {},
   "outputs": [],
   "source": [
    "def erroelmclass(X,D,U,V):\n",
    "    Xa = np.c_[X,np.ones(X.shape[0])]\n",
    "    S = Xa@np.transpose(U)\n",
    "    H = np.tanh(S)\n",
    "    Ha = np.c_[H,np.ones(X.shape[0])]\n",
    "    R = Ha@np.transpose(V)\n",
    "    Y = R\n",
    "    E = D-Y\n",
    "    EQM = 1/(D.shape[0]*D.shape[1])*(np.transpose(E)@E)\n",
    "    taxa = 100* np.sum(np.equal(np.amax(Y, axis=0),np.amax(D, axis=0)))\n",
    "    return (Y,E,EQM,taxa)"
   ]
  },
  {
   "cell_type": "code",
   "execution_count": 3,
   "metadata": {},
   "outputs": [
    {
     "data": {
      "text/plain": [
       "array([[0, 0, 0],\n",
       "       [0, 0, 1],\n",
       "       [0, 1, 0],\n",
       "       [0, 1, 1],\n",
       "       [1, 0, 0],\n",
       "       [1, 0, 1],\n",
       "       [1, 1, 0],\n",
       "       [1, 1, 1]])"
      ]
     },
     "metadata": {},
     "output_type": "display_data"
    },
    {
     "data": {
      "text/plain": [
       "(8, 3)"
      ]
     },
     "metadata": {},
     "output_type": "display_data"
    },
    {
     "data": {
      "text/plain": [
       "array([[1, 0],\n",
       "       [0, 1],\n",
       "       [0, 1],\n",
       "       [1, 0],\n",
       "       [0, 1],\n",
       "       [1, 0],\n",
       "       [1, 0],\n",
       "       [0, 1]])"
      ]
     },
     "metadata": {},
     "output_type": "display_data"
    },
    {
     "data": {
      "text/plain": [
       "(8, 2)"
      ]
     },
     "metadata": {},
     "output_type": "display_data"
    }
   ],
   "source": [
    "X = np.array([[0,0,0],[0,0,1],[0,1,0],[0,1,1],[1,0,0],[1,0,1],[1,1,0],[1,1,1]])\n",
    "D = np.array([[1,0],[0,1],[0,1],[1,0],[0,1],[1,0],[1,0],[0,1]])\n",
    "display(X,X.shape,D,D.shape)"
   ]
  },
  {
   "cell_type": "code",
   "execution_count": 4,
   "metadata": {},
   "outputs": [
    {
     "data": {
      "text/plain": [
       "array([[1, 1, 0],\n",
       "       [0, 1, 0],\n",
       "       [0, 0, 1],\n",
       "       [1, 1, 1],\n",
       "       [0, 1, 1],\n",
       "       [0, 0, 0],\n",
       "       [1, 0, 1],\n",
       "       [1, 0, 0]])"
      ]
     },
     "metadata": {},
     "output_type": "display_data"
    },
    {
     "data": {
      "text/plain": [
       "array([[1, 0],\n",
       "       [0, 1],\n",
       "       [0, 1],\n",
       "       [0, 1],\n",
       "       [1, 0],\n",
       "       [1, 0],\n",
       "       [1, 0],\n",
       "       [0, 1]])"
      ]
     },
     "metadata": {},
     "output_type": "display_data"
    }
   ],
   "source": [
    "X, D= shuffle(X, D, random_state=0)\n",
    "display(X,D)"
   ]
  },
  {
   "cell_type": "code",
   "execution_count": 5,
   "metadata": {},
   "outputs": [
    {
     "data": {
      "text/plain": [
       "array([[1, 1, 0],\n",
       "       [0, 1, 0],\n",
       "       [0, 0, 1],\n",
       "       [1, 1, 1],\n",
       "       [0, 1, 1],\n",
       "       [0, 0, 0]])"
      ]
     },
     "metadata": {},
     "output_type": "display_data"
    },
    {
     "data": {
      "text/plain": [
       "array([[1, 0],\n",
       "       [0, 1],\n",
       "       [0, 1],\n",
       "       [0, 1],\n",
       "       [1, 0],\n",
       "       [1, 0]])"
      ]
     },
     "metadata": {},
     "output_type": "display_data"
    },
    {
     "data": {
      "text/plain": [
       "array([[1, 0, 1],\n",
       "       [1, 0, 0]])"
      ]
     },
     "metadata": {},
     "output_type": "display_data"
    },
    {
     "data": {
      "text/plain": [
       "array([[1, 0],\n",
       "       [0, 1]])"
      ]
     },
     "metadata": {},
     "output_type": "display_data"
    }
   ],
   "source": [
    "numtr = int(np.ceil(0.7*X.shape[0]))\n",
    "Xtr = X[0:numtr,:]\n",
    "Dtr = D[0:numtr,:]\n",
    "Xt = X[numtr:,:]\n",
    "Dt = D[numtr:,:]\n",
    "display(Xtr,Dtr,Xt,Dt)"
   ]
  },
  {
   "cell_type": "code",
   "execution_count": 6,
   "metadata": {},
   "outputs": [
    {
     "data": {
      "text/plain": [
       "array([0, 0, 0])"
      ]
     },
     "metadata": {},
     "output_type": "display_data"
    },
    {
     "data": {
      "text/plain": [
       "array([1, 1, 1])"
      ]
     },
     "metadata": {},
     "output_type": "display_data"
    },
    {
     "data": {
      "text/plain": [
       "array([[-1., -1., -1.]])"
      ]
     },
     "metadata": {},
     "output_type": "display_data"
    },
    {
     "data": {
      "text/plain": [
       "array([[ 1.,  1.,  1.]])"
      ]
     },
     "metadata": {},
     "output_type": "display_data"
    }
   ],
   "source": [
    "Xtrmin = np.amin(Xtr, axis=0)\n",
    "Xtrmax = np.amax(Xtr, axis=0)\n",
    "\n",
    "Xtremin = np.ones((1,X.shape[1]))*-1\n",
    "Xtremax = np.ones((1,X.shape[1]))\n",
    "\n",
    "display(Xtrmin, Xtrmax, Xtremin, Xtremax)"
   ]
  },
  {
   "cell_type": "code",
   "execution_count": 7,
   "metadata": {},
   "outputs": [
    {
     "data": {
      "text/plain": [
       "array([[ 1.,  1., -1.],\n",
       "       [-1.,  1., -1.],\n",
       "       [-1., -1.,  1.],\n",
       "       [ 1.,  1.,  1.],\n",
       "       [-1.,  1.,  1.],\n",
       "       [-1., -1., -1.]])"
      ]
     },
     "metadata": {},
     "output_type": "display_data"
    }
   ],
   "source": [
    "Xtre = ((Xtremax-Xtremin)*(Xtr - Xtrmin))/(Xtrmax-Xtrmin)+Xtremin\n",
    "Dtre = Dtr\n",
    "P = 5\n",
    "display(Xtre)"
   ]
  },
  {
   "cell_type": "code",
   "execution_count": 8,
   "metadata": {},
   "outputs": [
    {
     "data": {
      "text/plain": [
       "0"
      ]
     },
     "metadata": {},
     "output_type": "display_data"
    },
    {
     "data": {
      "text/plain": [
       "0"
      ]
     },
     "metadata": {},
     "output_type": "display_data"
    }
   ],
   "source": [
    "[U,V,Ytre,Etre,EQMtre,taxatre] = treinaelmclass(Xtre,Dtre,P)\n",
    "Xte = (Xtremax-Xtremin)*(Xt-Xtrmin)/(Xtrmax-Xtrmin)+Xtremin\n",
    "Dte = Dt\n",
    "[Yte,Ete,EQMte,taxate] = erroelmclass(Xte,Dte,U,V)\n",
    "display(taxatre, taxate)"
   ]
  },
  {
   "cell_type": "code",
   "execution_count": null,
   "metadata": {},
   "outputs": [],
   "source": []
  }
 ],
 "metadata": {
  "kernelspec": {
   "display_name": "Python 3",
   "language": "python",
   "name": "python3"
  },
  "language_info": {
   "codemirror_mode": {
    "name": "ipython",
    "version": 3
   },
   "file_extension": ".py",
   "mimetype": "text/x-python",
   "name": "python",
   "nbconvert_exporter": "python",
   "pygments_lexer": "ipython3",
   "version": "3.6.3"
  }
 },
 "nbformat": 4,
 "nbformat_minor": 2
}
